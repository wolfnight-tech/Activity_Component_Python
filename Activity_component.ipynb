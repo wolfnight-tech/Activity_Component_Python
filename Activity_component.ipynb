{
 "cells": [
  {
   "cell_type": "markdown",
   "id": "347202b2-7653-4e0f-b7f6-b0f1400eca9c",
   "metadata": {},
   "source": [
    "<html>\n",
    "    <head></head>\n",
    "    <body>\n",
    "        <h1 style=\"color: #006716; font-size: 50px;\"> Python Activity Component </h1>\n",
    "        <h2 style=\"font-size: 35px;\"> Dataset : World Population Growth From 1951 to 2023</h2>\n",
    "    </body>\n",
    "</html>"
   ]
  },
  {
   "cell_type": "code",
   "execution_count": 2,
   "id": "2c754b55-3d95-4946-ba92-53afd50bfc5c",
   "metadata": {},
   "outputs": [],
   "source": [
    "import pandas as pd\n",
    "import numpy as np\n",
    "import matplotlib.pyplot as mlt\n",
    "import seaborn as sb"
   ]
  },
  {
   "cell_type": "code",
   "execution_count": 3,
   "id": "cd811f76-8b7a-4312-aa0f-eac2e6da6336",
   "metadata": {},
   "outputs": [],
   "source": [
    "df = pd.read_csv('World Population Growth.csv')"
   ]
  },
  {
   "cell_type": "markdown",
   "id": "8314605f-e7fe-401b-b81b-e897eb1c8a37",
   "metadata": {},
   "source": [
    "<html>\n",
    "    <head><head>\n",
    "        <body>\n",
    "            <h2 style=\"font-size: 35px; color: #006716\"> Cleaning Dataset <h2>\n",
    "        </body>\n",
    "</html>"
   ]
  },
  {
   "cell_type": "code",
   "execution_count": 4,
   "id": "4c4e4365-2801-487b-87e6-a910860e20c2",
   "metadata": {},
   "outputs": [],
   "source": [
    "df_cleaned = df.dropna(how='all')"
   ]
  },
  {
   "cell_type": "code",
   "execution_count": 5,
   "id": "0debada9-4b04-492c-8690-deecf01ac3f2",
   "metadata": {},
   "outputs": [
    {
     "data": {
      "text/html": [
       "<div>\n",
       "<style scoped>\n",
       "    .dataframe tbody tr th:only-of-type {\n",
       "        vertical-align: middle;\n",
       "    }\n",
       "\n",
       "    .dataframe tbody tr th {\n",
       "        vertical-align: top;\n",
       "    }\n",
       "\n",
       "    .dataframe thead th {\n",
       "        text-align: right;\n",
       "    }\n",
       "</style>\n",
       "<table border=\"1\" class=\"dataframe\">\n",
       "  <thead>\n",
       "    <tr style=\"text-align: right;\">\n",
       "      <th></th>\n",
       "      <th>Year</th>\n",
       "      <th>Population</th>\n",
       "      <th>Yearly Growth %</th>\n",
       "      <th>Number</th>\n",
       "      <th>Density (Pop/km2)</th>\n",
       "    </tr>\n",
       "  </thead>\n",
       "  <tbody>\n",
       "    <tr>\n",
       "      <th>0</th>\n",
       "      <td>1951</td>\n",
       "      <td>2,543,130,380</td>\n",
       "      <td>1.75%</td>\n",
       "      <td>43,808,223</td>\n",
       "      <td>17</td>\n",
       "    </tr>\n",
       "    <tr>\n",
       "      <th>1</th>\n",
       "      <td>1952</td>\n",
       "      <td>2,590,270,899</td>\n",
       "      <td>1.85%</td>\n",
       "      <td>47,140,519</td>\n",
       "      <td>17</td>\n",
       "    </tr>\n",
       "    <tr>\n",
       "      <th>2</th>\n",
       "      <td>1953</td>\n",
       "      <td>2,640,278,797</td>\n",
       "      <td>1.93%</td>\n",
       "      <td>50,007,898</td>\n",
       "      <td>18</td>\n",
       "    </tr>\n",
       "    <tr>\n",
       "      <th>3</th>\n",
       "      <td>1954</td>\n",
       "      <td>2,691,979,339</td>\n",
       "      <td>1.96%</td>\n",
       "      <td>51,700,542</td>\n",
       "      <td>18</td>\n",
       "    </tr>\n",
       "    <tr>\n",
       "      <th>4</th>\n",
       "      <td>1955</td>\n",
       "      <td>2,746,072,141</td>\n",
       "      <td>2.01%</td>\n",
       "      <td>54,092,802</td>\n",
       "      <td>18</td>\n",
       "    </tr>\n",
       "    <tr>\n",
       "      <th>...</th>\n",
       "      <td>...</td>\n",
       "      <td>...</td>\n",
       "      <td>...</td>\n",
       "      <td>...</td>\n",
       "      <td>...</td>\n",
       "    </tr>\n",
       "    <tr>\n",
       "      <th>68</th>\n",
       "      <td>2019</td>\n",
       "      <td>7,764,951,032</td>\n",
       "      <td>1.06%</td>\n",
       "      <td>81,161,204</td>\n",
       "      <td>52</td>\n",
       "    </tr>\n",
       "    <tr>\n",
       "      <th>69</th>\n",
       "      <td>2020</td>\n",
       "      <td>7,840,952,880</td>\n",
       "      <td>0.98%</td>\n",
       "      <td>76,001,848</td>\n",
       "      <td>53</td>\n",
       "    </tr>\n",
       "    <tr>\n",
       "      <th>70</th>\n",
       "      <td>2021</td>\n",
       "      <td>7,909,295,151</td>\n",
       "      <td>0.87%</td>\n",
       "      <td>68,342,271</td>\n",
       "      <td>53</td>\n",
       "    </tr>\n",
       "    <tr>\n",
       "      <th>71</th>\n",
       "      <td>2022</td>\n",
       "      <td>7,975,105,156</td>\n",
       "      <td>0.83%</td>\n",
       "      <td>65,810,005</td>\n",
       "      <td>54</td>\n",
       "    </tr>\n",
       "    <tr>\n",
       "      <th>72</th>\n",
       "      <td>2023</td>\n",
       "      <td>8,045,311,447</td>\n",
       "      <td>0.88%</td>\n",
       "      <td>70,206,291</td>\n",
       "      <td>54</td>\n",
       "    </tr>\n",
       "  </tbody>\n",
       "</table>\n",
       "<p>73 rows × 5 columns</p>\n",
       "</div>"
      ],
      "text/plain": [
       "    Year     Population Yearly Growth %      Number  Density (Pop/km2)\n",
       "0   1951  2,543,130,380           1.75%  43,808,223                 17\n",
       "1   1952  2,590,270,899           1.85%  47,140,519                 17\n",
       "2   1953  2,640,278,797           1.93%  50,007,898                 18\n",
       "3   1954  2,691,979,339           1.96%  51,700,542                 18\n",
       "4   1955  2,746,072,141           2.01%  54,092,802                 18\n",
       "..   ...            ...             ...         ...                ...\n",
       "68  2019  7,764,951,032           1.06%  81,161,204                 52\n",
       "69  2020  7,840,952,880           0.98%  76,001,848                 53\n",
       "70  2021  7,909,295,151           0.87%  68,342,271                 53\n",
       "71  2022  7,975,105,156           0.83%  65,810,005                 54\n",
       "72  2023  8,045,311,447           0.88%  70,206,291                 54\n",
       "\n",
       "[73 rows x 5 columns]"
      ]
     },
     "execution_count": 5,
     "metadata": {},
     "output_type": "execute_result"
    }
   ],
   "source": [
    "df"
   ]
  },
  {
   "cell_type": "code",
   "execution_count": 6,
   "id": "73086af9-c7c6-4ae5-9b61-fdca8165633d",
   "metadata": {},
   "outputs": [
    {
     "data": {
      "text/html": [
       "<div>\n",
       "<style scoped>\n",
       "    .dataframe tbody tr th:only-of-type {\n",
       "        vertical-align: middle;\n",
       "    }\n",
       "\n",
       "    .dataframe tbody tr th {\n",
       "        vertical-align: top;\n",
       "    }\n",
       "\n",
       "    .dataframe thead th {\n",
       "        text-align: right;\n",
       "    }\n",
       "</style>\n",
       "<table border=\"1\" class=\"dataframe\">\n",
       "  <thead>\n",
       "    <tr style=\"text-align: right;\">\n",
       "      <th></th>\n",
       "      <th>Year</th>\n",
       "      <th>Population</th>\n",
       "      <th>Yearly Growth %</th>\n",
       "      <th>Number</th>\n",
       "      <th>Density (Pop/km2)</th>\n",
       "    </tr>\n",
       "  </thead>\n",
       "  <tbody>\n",
       "    <tr>\n",
       "      <th>0</th>\n",
       "      <td>False</td>\n",
       "      <td>False</td>\n",
       "      <td>False</td>\n",
       "      <td>False</td>\n",
       "      <td>False</td>\n",
       "    </tr>\n",
       "    <tr>\n",
       "      <th>1</th>\n",
       "      <td>False</td>\n",
       "      <td>False</td>\n",
       "      <td>False</td>\n",
       "      <td>False</td>\n",
       "      <td>False</td>\n",
       "    </tr>\n",
       "    <tr>\n",
       "      <th>2</th>\n",
       "      <td>False</td>\n",
       "      <td>False</td>\n",
       "      <td>False</td>\n",
       "      <td>False</td>\n",
       "      <td>False</td>\n",
       "    </tr>\n",
       "    <tr>\n",
       "      <th>3</th>\n",
       "      <td>False</td>\n",
       "      <td>False</td>\n",
       "      <td>False</td>\n",
       "      <td>False</td>\n",
       "      <td>False</td>\n",
       "    </tr>\n",
       "    <tr>\n",
       "      <th>4</th>\n",
       "      <td>False</td>\n",
       "      <td>False</td>\n",
       "      <td>False</td>\n",
       "      <td>False</td>\n",
       "      <td>False</td>\n",
       "    </tr>\n",
       "    <tr>\n",
       "      <th>...</th>\n",
       "      <td>...</td>\n",
       "      <td>...</td>\n",
       "      <td>...</td>\n",
       "      <td>...</td>\n",
       "      <td>...</td>\n",
       "    </tr>\n",
       "    <tr>\n",
       "      <th>68</th>\n",
       "      <td>False</td>\n",
       "      <td>False</td>\n",
       "      <td>False</td>\n",
       "      <td>False</td>\n",
       "      <td>False</td>\n",
       "    </tr>\n",
       "    <tr>\n",
       "      <th>69</th>\n",
       "      <td>False</td>\n",
       "      <td>False</td>\n",
       "      <td>False</td>\n",
       "      <td>False</td>\n",
       "      <td>False</td>\n",
       "    </tr>\n",
       "    <tr>\n",
       "      <th>70</th>\n",
       "      <td>False</td>\n",
       "      <td>False</td>\n",
       "      <td>False</td>\n",
       "      <td>False</td>\n",
       "      <td>False</td>\n",
       "    </tr>\n",
       "    <tr>\n",
       "      <th>71</th>\n",
       "      <td>False</td>\n",
       "      <td>False</td>\n",
       "      <td>False</td>\n",
       "      <td>False</td>\n",
       "      <td>False</td>\n",
       "    </tr>\n",
       "    <tr>\n",
       "      <th>72</th>\n",
       "      <td>False</td>\n",
       "      <td>False</td>\n",
       "      <td>False</td>\n",
       "      <td>False</td>\n",
       "      <td>False</td>\n",
       "    </tr>\n",
       "  </tbody>\n",
       "</table>\n",
       "<p>73 rows × 5 columns</p>\n",
       "</div>"
      ],
      "text/plain": [
       "     Year  Population  Yearly Growth %  Number  Density (Pop/km2)\n",
       "0   False       False            False   False              False\n",
       "1   False       False            False   False              False\n",
       "2   False       False            False   False              False\n",
       "3   False       False            False   False              False\n",
       "4   False       False            False   False              False\n",
       "..    ...         ...              ...     ...                ...\n",
       "68  False       False            False   False              False\n",
       "69  False       False            False   False              False\n",
       "70  False       False            False   False              False\n",
       "71  False       False            False   False              False\n",
       "72  False       False            False   False              False\n",
       "\n",
       "[73 rows x 5 columns]"
      ]
     },
     "execution_count": 6,
     "metadata": {},
     "output_type": "execute_result"
    }
   ],
   "source": [
    "df_cleaned.isnull()"
   ]
  },
  {
   "cell_type": "code",
   "execution_count": 7,
   "id": "0fe0364d-5262-4a04-b826-e355ff84c4fd",
   "metadata": {},
   "outputs": [
    {
     "data": {
      "text/html": [
       "<div>\n",
       "<style scoped>\n",
       "    .dataframe tbody tr th:only-of-type {\n",
       "        vertical-align: middle;\n",
       "    }\n",
       "\n",
       "    .dataframe tbody tr th {\n",
       "        vertical-align: top;\n",
       "    }\n",
       "\n",
       "    .dataframe thead th {\n",
       "        text-align: right;\n",
       "    }\n",
       "</style>\n",
       "<table border=\"1\" class=\"dataframe\">\n",
       "  <thead>\n",
       "    <tr style=\"text-align: right;\">\n",
       "      <th></th>\n",
       "      <th>Year</th>\n",
       "      <th>Population</th>\n",
       "      <th>Yearly Growth %</th>\n",
       "      <th>Number</th>\n",
       "      <th>Density (Pop/km2)</th>\n",
       "    </tr>\n",
       "  </thead>\n",
       "  <tbody>\n",
       "    <tr>\n",
       "      <th>0</th>\n",
       "      <td>1951</td>\n",
       "      <td>2,543,130,380</td>\n",
       "      <td>1.75%</td>\n",
       "      <td>43,808,223</td>\n",
       "      <td>17</td>\n",
       "    </tr>\n",
       "    <tr>\n",
       "      <th>1</th>\n",
       "      <td>1952</td>\n",
       "      <td>2,590,270,899</td>\n",
       "      <td>1.85%</td>\n",
       "      <td>47,140,519</td>\n",
       "      <td>17</td>\n",
       "    </tr>\n",
       "    <tr>\n",
       "      <th>2</th>\n",
       "      <td>1953</td>\n",
       "      <td>2,640,278,797</td>\n",
       "      <td>1.93%</td>\n",
       "      <td>50,007,898</td>\n",
       "      <td>18</td>\n",
       "    </tr>\n",
       "    <tr>\n",
       "      <th>3</th>\n",
       "      <td>1954</td>\n",
       "      <td>2,691,979,339</td>\n",
       "      <td>1.96%</td>\n",
       "      <td>51,700,542</td>\n",
       "      <td>18</td>\n",
       "    </tr>\n",
       "    <tr>\n",
       "      <th>4</th>\n",
       "      <td>1955</td>\n",
       "      <td>2,746,072,141</td>\n",
       "      <td>2.01%</td>\n",
       "      <td>54,092,802</td>\n",
       "      <td>18</td>\n",
       "    </tr>\n",
       "    <tr>\n",
       "      <th>...</th>\n",
       "      <td>...</td>\n",
       "      <td>...</td>\n",
       "      <td>...</td>\n",
       "      <td>...</td>\n",
       "      <td>...</td>\n",
       "    </tr>\n",
       "    <tr>\n",
       "      <th>68</th>\n",
       "      <td>2019</td>\n",
       "      <td>7,764,951,032</td>\n",
       "      <td>1.06%</td>\n",
       "      <td>81,161,204</td>\n",
       "      <td>52</td>\n",
       "    </tr>\n",
       "    <tr>\n",
       "      <th>69</th>\n",
       "      <td>2020</td>\n",
       "      <td>7,840,952,880</td>\n",
       "      <td>0.98%</td>\n",
       "      <td>76,001,848</td>\n",
       "      <td>53</td>\n",
       "    </tr>\n",
       "    <tr>\n",
       "      <th>70</th>\n",
       "      <td>2021</td>\n",
       "      <td>7,909,295,151</td>\n",
       "      <td>0.87%</td>\n",
       "      <td>68,342,271</td>\n",
       "      <td>53</td>\n",
       "    </tr>\n",
       "    <tr>\n",
       "      <th>71</th>\n",
       "      <td>2022</td>\n",
       "      <td>7,975,105,156</td>\n",
       "      <td>0.83%</td>\n",
       "      <td>65,810,005</td>\n",
       "      <td>54</td>\n",
       "    </tr>\n",
       "    <tr>\n",
       "      <th>72</th>\n",
       "      <td>2023</td>\n",
       "      <td>8,045,311,447</td>\n",
       "      <td>0.88%</td>\n",
       "      <td>70,206,291</td>\n",
       "      <td>54</td>\n",
       "    </tr>\n",
       "  </tbody>\n",
       "</table>\n",
       "<p>73 rows × 5 columns</p>\n",
       "</div>"
      ],
      "text/plain": [
       "    Year     Population Yearly Growth %      Number  Density (Pop/km2)\n",
       "0   1951  2,543,130,380           1.75%  43,808,223                 17\n",
       "1   1952  2,590,270,899           1.85%  47,140,519                 17\n",
       "2   1953  2,640,278,797           1.93%  50,007,898                 18\n",
       "3   1954  2,691,979,339           1.96%  51,700,542                 18\n",
       "4   1955  2,746,072,141           2.01%  54,092,802                 18\n",
       "..   ...            ...             ...         ...                ...\n",
       "68  2019  7,764,951,032           1.06%  81,161,204                 52\n",
       "69  2020  7,840,952,880           0.98%  76,001,848                 53\n",
       "70  2021  7,909,295,151           0.87%  68,342,271                 53\n",
       "71  2022  7,975,105,156           0.83%  65,810,005                 54\n",
       "72  2023  8,045,311,447           0.88%  70,206,291                 54\n",
       "\n",
       "[73 rows x 5 columns]"
      ]
     },
     "execution_count": 7,
     "metadata": {},
     "output_type": "execute_result"
    }
   ],
   "source": [
    "df_cleaned"
   ]
  },
  {
   "cell_type": "code",
   "execution_count": 8,
   "id": "e76fe175-219e-4195-89a4-2b43cecfa8ea",
   "metadata": {},
   "outputs": [],
   "source": [
    "duplicate_values = df[df.duplicated()]"
   ]
  },
  {
   "cell_type": "code",
   "execution_count": 9,
   "id": "319e150e-a340-4c0e-8bdc-fa68394c299b",
   "metadata": {},
   "outputs": [
    {
     "data": {
      "text/html": [
       "<div>\n",
       "<style scoped>\n",
       "    .dataframe tbody tr th:only-of-type {\n",
       "        vertical-align: middle;\n",
       "    }\n",
       "\n",
       "    .dataframe tbody tr th {\n",
       "        vertical-align: top;\n",
       "    }\n",
       "\n",
       "    .dataframe thead th {\n",
       "        text-align: right;\n",
       "    }\n",
       "</style>\n",
       "<table border=\"1\" class=\"dataframe\">\n",
       "  <thead>\n",
       "    <tr style=\"text-align: right;\">\n",
       "      <th></th>\n",
       "      <th>Year</th>\n",
       "      <th>Population</th>\n",
       "      <th>Yearly Growth %</th>\n",
       "      <th>Number</th>\n",
       "      <th>Density (Pop/km2)</th>\n",
       "    </tr>\n",
       "  </thead>\n",
       "  <tbody>\n",
       "  </tbody>\n",
       "</table>\n",
       "</div>"
      ],
      "text/plain": [
       "Empty DataFrame\n",
       "Columns: [Year, Population, Yearly Growth %, Number, Density (Pop/km2)]\n",
       "Index: []"
      ]
     },
     "execution_count": 9,
     "metadata": {},
     "output_type": "execute_result"
    }
   ],
   "source": [
    "duplicate_values"
   ]
  },
  {
   "cell_type": "markdown",
   "id": "eae58e85-025b-4aad-9d0c-e4b28dcdaf2e",
   "metadata": {},
   "source": [
    "<html>\n",
    "    <head><head>\n",
    "        <body>\n",
    "            <h2 style=\"font-size: 35px; color: #006716\"> Renaming Columns<h2>\n",
    "        </body>\n",
    "</html>"
   ]
  },
  {
   "cell_type": "code",
   "execution_count": 10,
   "id": "137d22ee-36d1-48ab-a91c-c18e514b47bb",
   "metadata": {},
   "outputs": [],
   "source": [
    "df_cleaned.rename(columns={'Number': 'population increase'}, inplace=True)"
   ]
  },
  {
   "cell_type": "code",
   "execution_count": 11,
   "id": "0867add6-5817-4370-b516-13018a3a63b6",
   "metadata": {},
   "outputs": [],
   "source": [
    "df_cleaned.rename(columns={'Yearly Growth %': 'Yearly Growth Percent'}, inplace=True)"
   ]
  },
  {
   "cell_type": "code",
   "execution_count": 12,
   "id": "adbae064-3f1d-42c2-ab4c-206754a86378",
   "metadata": {},
   "outputs": [
    {
     "data": {
      "text/html": [
       "<div>\n",
       "<style scoped>\n",
       "    .dataframe tbody tr th:only-of-type {\n",
       "        vertical-align: middle;\n",
       "    }\n",
       "\n",
       "    .dataframe tbody tr th {\n",
       "        vertical-align: top;\n",
       "    }\n",
       "\n",
       "    .dataframe thead th {\n",
       "        text-align: right;\n",
       "    }\n",
       "</style>\n",
       "<table border=\"1\" class=\"dataframe\">\n",
       "  <thead>\n",
       "    <tr style=\"text-align: right;\">\n",
       "      <th></th>\n",
       "      <th>Year</th>\n",
       "      <th>Population</th>\n",
       "      <th>Yearly Growth Percent</th>\n",
       "      <th>population increase</th>\n",
       "      <th>Density (Pop/km2)</th>\n",
       "    </tr>\n",
       "  </thead>\n",
       "  <tbody>\n",
       "    <tr>\n",
       "      <th>0</th>\n",
       "      <td>1951</td>\n",
       "      <td>2,543,130,380</td>\n",
       "      <td>1.75%</td>\n",
       "      <td>43,808,223</td>\n",
       "      <td>17</td>\n",
       "    </tr>\n",
       "    <tr>\n",
       "      <th>1</th>\n",
       "      <td>1952</td>\n",
       "      <td>2,590,270,899</td>\n",
       "      <td>1.85%</td>\n",
       "      <td>47,140,519</td>\n",
       "      <td>17</td>\n",
       "    </tr>\n",
       "    <tr>\n",
       "      <th>2</th>\n",
       "      <td>1953</td>\n",
       "      <td>2,640,278,797</td>\n",
       "      <td>1.93%</td>\n",
       "      <td>50,007,898</td>\n",
       "      <td>18</td>\n",
       "    </tr>\n",
       "    <tr>\n",
       "      <th>3</th>\n",
       "      <td>1954</td>\n",
       "      <td>2,691,979,339</td>\n",
       "      <td>1.96%</td>\n",
       "      <td>51,700,542</td>\n",
       "      <td>18</td>\n",
       "    </tr>\n",
       "    <tr>\n",
       "      <th>4</th>\n",
       "      <td>1955</td>\n",
       "      <td>2,746,072,141</td>\n",
       "      <td>2.01%</td>\n",
       "      <td>54,092,802</td>\n",
       "      <td>18</td>\n",
       "    </tr>\n",
       "    <tr>\n",
       "      <th>...</th>\n",
       "      <td>...</td>\n",
       "      <td>...</td>\n",
       "      <td>...</td>\n",
       "      <td>...</td>\n",
       "      <td>...</td>\n",
       "    </tr>\n",
       "    <tr>\n",
       "      <th>68</th>\n",
       "      <td>2019</td>\n",
       "      <td>7,764,951,032</td>\n",
       "      <td>1.06%</td>\n",
       "      <td>81,161,204</td>\n",
       "      <td>52</td>\n",
       "    </tr>\n",
       "    <tr>\n",
       "      <th>69</th>\n",
       "      <td>2020</td>\n",
       "      <td>7,840,952,880</td>\n",
       "      <td>0.98%</td>\n",
       "      <td>76,001,848</td>\n",
       "      <td>53</td>\n",
       "    </tr>\n",
       "    <tr>\n",
       "      <th>70</th>\n",
       "      <td>2021</td>\n",
       "      <td>7,909,295,151</td>\n",
       "      <td>0.87%</td>\n",
       "      <td>68,342,271</td>\n",
       "      <td>53</td>\n",
       "    </tr>\n",
       "    <tr>\n",
       "      <th>71</th>\n",
       "      <td>2022</td>\n",
       "      <td>7,975,105,156</td>\n",
       "      <td>0.83%</td>\n",
       "      <td>65,810,005</td>\n",
       "      <td>54</td>\n",
       "    </tr>\n",
       "    <tr>\n",
       "      <th>72</th>\n",
       "      <td>2023</td>\n",
       "      <td>8,045,311,447</td>\n",
       "      <td>0.88%</td>\n",
       "      <td>70,206,291</td>\n",
       "      <td>54</td>\n",
       "    </tr>\n",
       "  </tbody>\n",
       "</table>\n",
       "<p>73 rows × 5 columns</p>\n",
       "</div>"
      ],
      "text/plain": [
       "    Year     Population Yearly Growth Percent population increase  \\\n",
       "0   1951  2,543,130,380                 1.75%          43,808,223   \n",
       "1   1952  2,590,270,899                 1.85%          47,140,519   \n",
       "2   1953  2,640,278,797                 1.93%          50,007,898   \n",
       "3   1954  2,691,979,339                 1.96%          51,700,542   \n",
       "4   1955  2,746,072,141                 2.01%          54,092,802   \n",
       "..   ...            ...                   ...                 ...   \n",
       "68  2019  7,764,951,032                 1.06%          81,161,204   \n",
       "69  2020  7,840,952,880                 0.98%          76,001,848   \n",
       "70  2021  7,909,295,151                 0.87%          68,342,271   \n",
       "71  2022  7,975,105,156                 0.83%          65,810,005   \n",
       "72  2023  8,045,311,447                 0.88%          70,206,291   \n",
       "\n",
       "    Density (Pop/km2)  \n",
       "0                  17  \n",
       "1                  17  \n",
       "2                  18  \n",
       "3                  18  \n",
       "4                  18  \n",
       "..                ...  \n",
       "68                 52  \n",
       "69                 53  \n",
       "70                 53  \n",
       "71                 54  \n",
       "72                 54  \n",
       "\n",
       "[73 rows x 5 columns]"
      ]
     },
     "execution_count": 12,
     "metadata": {},
     "output_type": "execute_result"
    }
   ],
   "source": [
    "df_cleaned"
   ]
  },
  {
   "cell_type": "markdown",
   "id": "4c095d48-9104-48e5-b30c-bd341c0401fa",
   "metadata": {},
   "source": [
    "<html>\n",
    "    <head><head>\n",
    "        <body>\n",
    "            <h2 style=\"font-size: 35px; color:#006716 \"> Changing Datatypes : From String to int64, float <h2>\n",
    "        </body>\n",
    "</html>"
   ]
  },
  {
   "cell_type": "code",
   "execution_count": 13,
   "id": "4c2bab5b-604c-4014-89fa-f1b253b013c4",
   "metadata": {},
   "outputs": [],
   "source": [
    "\n",
    "df_cleaned['Population'] = df_cleaned['Population'].str.replace(',', '').astype('int64')\n",
    "df_cleaned['Yearly Growth Percent'] = df_cleaned['Yearly Growth Percent'].str.replace('%', '').astype('float')\n",
    "df_cleaned['population increase'] = df_cleaned['population increase'].str.replace(',', '').astype('int64')\n",
    "#df_cleaned['Population'] = df['Population'].str.replace(',', '').astype('int64')\n"
   ]
  },
  {
   "cell_type": "code",
   "execution_count": 14,
   "id": "3610ccb3-960e-4a8d-b744-eebde59ba51b",
   "metadata": {},
   "outputs": [],
   "source": [
    "# Basic and statistical operations\n",
    "\n",
    "df_population_column = df_cleaned.loc[:, ['Population']]\n",
    "df_yearly_growth_column = df_cleaned.loc[:, ['Yearly Growth Percent']]\n",
    "df_population_increase = df_cleaned.loc[:, [\"population increase\"]]\n",
    "df_density = df_cleaned.loc[:, [\"Density (Pop/km2)\"]]"
   ]
  },
  {
   "cell_type": "code",
   "execution_count": 15,
   "id": "23d0edcd-6769-4399-b951-ccfef53436eb",
   "metadata": {},
   "outputs": [
    {
     "name": "stdout",
     "output_type": "stream",
     "text": [
      "    Population\n",
      "0   2543130380\n",
      "1   2590270899\n",
      "2   2640278797\n",
      "3   2691979339\n",
      "4   2746072141\n",
      "..         ...\n",
      "68  7764951032\n",
      "69  7840952880\n",
      "70  7909295151\n",
      "71  7975105156\n",
      "72  8045311447\n",
      "\n",
      "[73 rows x 1 columns]\n",
      "\n",
      "    Yearly Growth Percent\n",
      "0                    1.75\n",
      "1                    1.85\n",
      "2                    1.93\n",
      "3                    1.96\n",
      "4                    2.01\n",
      "..                    ...\n",
      "68                   1.06\n",
      "69                   0.98\n",
      "70                   0.87\n",
      "71                   0.83\n",
      "72                   0.88\n",
      "\n",
      "[73 rows x 1 columns]\n",
      "\n",
      "    population increase\n",
      "0              43808223\n",
      "1              47140519\n",
      "2              50007898\n",
      "3              51700542\n",
      "4              54092802\n",
      "..                  ...\n",
      "68             81161204\n",
      "69             76001848\n",
      "70             68342271\n",
      "71             65810005\n",
      "72             70206291\n",
      "\n",
      "[73 rows x 1 columns]\n",
      "\n",
      "    Density (Pop/km2)\n",
      "0                  17\n",
      "1                  17\n",
      "2                  18\n",
      "3                  18\n",
      "4                  18\n",
      "..                ...\n",
      "68                 52\n",
      "69                 53\n",
      "70                 53\n",
      "71                 54\n",
      "72                 54\n",
      "\n",
      "[73 rows x 1 columns]\n"
     ]
    }
   ],
   "source": [
    "print(df_population_column, df_yearly_growth_column, df_population_increase, df_density, sep=\"\\n\\n\")\n",
    "\n",
    "df_column_array = [df_population_column, df_yearly_growth_column, df_population_increase, df_density]"
   ]
  },
  {
   "cell_type": "markdown",
   "id": "44a84836-6cd4-4ee8-b9f0-df0827142452",
   "metadata": {},
   "source": [
    "<html>\n",
    "    <head><head>\n",
    "        <body>\n",
    "            <h2 style=\"font-size: 40px; color: #006716\"> Statistical operations <h2>\n",
    "        </body>\n",
    "</html>"
   ]
  },
  {
   "cell_type": "markdown",
   "id": "08895ef3-8c3d-4261-8cfb-1978bc673c22",
   "metadata": {},
   "source": [
    "<html>\n",
    "    <head><head>\n",
    "        <body>\n",
    "                <h3 style=\"font-size: 35px;color: #006716\">Mean </h3>\n",
    "        </body>\n",
    "            </html>"
   ]
  },
  {
   "cell_type": "code",
   "execution_count": 16,
   "id": "61ce2f8a-3f07-465a-98b5-1d362727cba9",
   "metadata": {},
   "outputs": [
    {
     "name": "stdout",
     "output_type": "stream",
     "text": [
      "Mean of :   Index(['Population'], dtype='object')  =  Population    5.125104e+09\n",
      "dtype: float64\n",
      "Mean of :   Index(['Yearly Growth Percent'], dtype='object')  =  Yearly Growth Percent    1.614795\n",
      "dtype: float64\n",
      "Mean of :   Index(['population increase'], dtype='object')  =  population increase    7.597246e+07\n",
      "dtype: float64\n",
      "Mean of :   Index(['Density (Pop/km2)'], dtype='object')  =  Density (Pop/km2)    34.383562\n",
      "dtype: float64\n"
     ]
    }
   ],
   "source": [
    "\n",
    "for i in df_column_array:\n",
    "    print(\"Mean of :  \", i.columns, \" = \", i.mean())"
   ]
  },
  {
   "cell_type": "markdown",
   "id": "8588bff8-d8bc-400f-b5fc-d5d9cceb1307",
   "metadata": {},
   "source": [
    "<html>\n",
    "    <head><head>\n",
    "        <body>\n",
    "                <h3 style=\"font-size: 35px;color: #006716\">Standard deviation </h3>\n",
    "        </body>\n",
    "            </html>"
   ]
  },
  {
   "cell_type": "code",
   "execution_count": 17,
   "id": "1d7dbf4c-75f3-4b3f-97a3-343540abc93f",
   "metadata": {},
   "outputs": [
    {
     "name": "stdout",
     "output_type": "stream",
     "text": [
      "Standard deviation of :  Index(['Population'], dtype='object')  =  Population    1.689156e+09\n",
      "dtype: float64\n",
      "Standard deviation of :  Index(['Yearly Growth Percent'], dtype='object')  =  Yearly Growth Percent    0.362771\n",
      "dtype: float64\n",
      "Standard deviation of :  Index(['population increase'], dtype='object')  =  population increase    1.245181e+07\n",
      "dtype: float64\n",
      "Standard deviation of :  Index(['Density (Pop/km2)'], dtype='object')  =  Density (Pop/km2)    11.370808\n",
      "dtype: float64\n"
     ]
    }
   ],
   "source": [
    "for i in df_column_array:\n",
    "    print(\"Standard deviation of : \", i.columns, \" = \", i.std())"
   ]
  },
  {
   "cell_type": "code",
   "execution_count": 18,
   "id": "03ec252d-9eef-40f7-be7b-e39693f40967",
   "metadata": {},
   "outputs": [
    {
     "name": "stdout",
     "output_type": "stream",
     "text": [
      "     Population  population increase\n",
      "min  2543130380             43808223\n",
      "max  8045311447             92471554\n"
     ]
    }
   ],
   "source": [
    "aggregated_values = df_cleaned.agg({\n",
    "    'Population': ['min', 'max'],\n",
    "    'population increase': ['min', 'max']\n",
    "})\n",
    "\n",
    "print(aggregated_values)"
   ]
  },
  {
   "cell_type": "markdown",
   "id": "23b567dc-7815-4625-9b75-275579ad6e46",
   "metadata": {},
   "source": [
    "<html>\n",
    "    <head><head>\n",
    "        <body>\n",
    "                <h3 style=\"font-size: 35px;color: #006716\">Statistical Summary </h3>\n",
    "        </body>\n",
    "            </html>"
   ]
  },
  {
   "cell_type": "code",
   "execution_count": 19,
   "id": "daf5ea13-dd29-4124-ac44-c71163a35124",
   "metadata": {},
   "outputs": [
    {
     "name": "stdout",
     "output_type": "stream",
     "text": [
      "              Year    Population  Yearly Growth Percent  population increase  \\\n",
      "count    73.000000  7.300000e+01              73.000000         7.300000e+01   \n",
      "mean   1987.000000  5.125104e+09               1.614795         7.597246e+07   \n",
      "std      21.217131  1.689156e+09               0.362771         1.245181e+07   \n",
      "min    1951.000000  2.543130e+09               0.830000         4.380822e+07   \n",
      "25%    1969.000000  3.620655e+09               1.270000         7.020629e+07   \n",
      "50%    1987.000000  5.040984e+09               1.750000         8.083122e+07   \n",
      "75%    2005.000000  6.558176e+09               1.900000         8.474743e+07   \n",
      "max    2023.000000  8.045311e+09               2.240000         9.247155e+07   \n",
      "\n",
      "       Density (Pop/km2)  \n",
      "count          73.000000  \n",
      "mean           34.383562  \n",
      "std            11.370808  \n",
      "min            17.000000  \n",
      "25%            24.000000  \n",
      "50%            34.000000  \n",
      "75%            44.000000  \n",
      "max            54.000000  \n"
     ]
    }
   ],
   "source": [
    "smry = df_cleaned.describe()\n",
    "print(smry)"
   ]
  },
  {
   "cell_type": "markdown",
   "id": "2d37455a-6998-416f-9ac3-5da1c180b9cc",
   "metadata": {},
   "source": [
    "<html>\n",
    "    <head><head>\n",
    "        <body>\n",
    "            <h2 style=\"font-size: 35px; color: #006716\">Data visualization <h2>\n",
    "                <p style=\"font-size: 20px;\">Population from 1951 to 2023 : bar graph</p>\n",
    "        </body>\n",
    "</html>"
   ]
  },
  {
   "cell_type": "code",
   "execution_count": 20,
   "id": "bd868152-c01b-4e58-9a3f-74416768a6e0",
   "metadata": {},
   "outputs": [
    {
     "data": {
      "image/png": "[encoded data removed]",
      "text/plain": [
       "<Figure size 2000x700 with 1 Axes>"
      ]
     },
     "metadata": {},
     "output_type": "display_data"
    }
   ],
   "source": [
    "_,ax = mlt.subplots(figsize=(20, 7))\n",
    "\n",
    "df_cleaned.plot(kind='bar', x='Year', y='Population', color='skyblue', ax = ax)\n",
    "mlt.xlabel('Year')\n",
    "mlt.ylabel('Population')\n",
    "mlt.title('Bar Chart' )\n",
    "mlt.show()\n"
   ]
  },
  {
   "cell_type": "markdown",
   "id": "dbdb6434-573a-45a5-abad-d3b836435f02",
   "metadata": {},
   "source": [
    "<html>\n",
    "    <head><head>\n",
    "        <body>\n",
    "                <h3 style=\"font-size: 35px;color: #006716\">Histogram : Yearly growth </h3>\n",
    "        </body>\n",
    "            </html>"
   ]
  },
  {
   "cell_type": "code",
   "execution_count": 21,
   "id": "cc22b430-f31b-4515-979b-ac41388b425d",
   "metadata": {},
   "outputs": [
    {
     "data": {
      "image/png": "[encoded data removed]",
      "text/plain": [
       "<Figure size 1000x700 with 1 Axes>"
      ]
     },
     "metadata": {},
     "output_type": "display_data"
    }
   ],
   "source": [
    "_,ax = mlt.subplots(figsize=(10, 7))\n",
    "\n",
    "mlt.hist(df_yearly_growth_column, bins=5, color='lightgreen')\n",
    "mlt.show()"
   ]
  },
  {
   "cell_type": "markdown",
   "id": "b1a9d8d0-385a-48ad-b755-d077ef785a1b",
   "metadata": {},
   "source": [
    "<html>\n",
    "    <head><head>\n",
    "        <body>\n",
    "                <h3 style=\"font-size: 35px;color: #006716\">Line Graph (seaborn) : Year to Population </h3>\n",
    "        </body>\n",
    "            </html>"
   ]
  },
  {
   "cell_type": "code",
   "execution_count": 22,
   "id": "c9064a6b-9169-49a1-a378-3819fbf71e7a",
   "metadata": {},
   "outputs": [
    {
     "data": {
      "image/png": "[encoded data removed]",
      "text/plain": [
       "<Figure size 640x480 with 1 Axes>"
      ]
     },
     "metadata": {},
     "output_type": "display_data"
    }
   ],
   "source": [
    "sb.lineplot(data=df_cleaned, x=\"Year\", y=\"population increase\")\n",
    "mlt.show()"
   ]
  },
  {
   "cell_type": "markdown",
   "id": "681713fc-002e-420d-9934-cdb8f11b87d2",
   "metadata": {},
   "source": [
    "<html>\n",
    "    <head><head>\n",
    "        <body>\n",
    "                <h3 style=\"font-size: 35px;color: #006716\">Line Graph (seaborn): Year to Yearly Growth Percent </h3>\n",
    "        </body>\n",
    "            </html>"
   ]
  },
  {
   "cell_type": "code",
   "execution_count": 23,
   "id": "4284c28e-7a6b-4317-832b-c5aab05349b3",
   "metadata": {},
   "outputs": [
    {
     "data": {
      "image/png": "[encoded data removed]",
      "text/plain": [
       "<Figure size 640x480 with 1 Axes>"
      ]
     },
     "metadata": {},
     "output_type": "display_data"
    }
   ],
   "source": [
    "sb.lineplot(data=df_cleaned, x=\"Year\", y=\"Yearly Growth Percent\")\n",
    "mlt.show()"
   ]
  },
  {
   "cell_type": "markdown",
   "id": "d7ccc8ce-b75f-4553-b413-d9c7ed8764d5",
   "metadata": {},
   "source": [
    "<html>\n",
    "    <head><head>\n",
    "        <body>\n",
    "                <h3 style=\"font-size: 35px;color: #006716\">Scatter Plot (seaborn) : year to population increase </h3>\n",
    "        </body>\n",
    "            </html>"
   ]
  },
  {
   "cell_type": "code",
   "execution_count": 24,
   "id": "32ad681e-f5c4-4072-a012-5671ee967d5f",
   "metadata": {},
   "outputs": [
    {
     "data": {
      "text/plain": [
       "<Axes: xlabel='Year', ylabel='population increase'>"
      ]
     },
     "execution_count": 24,
     "metadata": {},
     "output_type": "execute_result"
    },
    {
     "data": {
      "image/png": "[encoded data removed]",
      "text/plain": [
       "<Figure size 640x480 with 1 Axes>"
      ]
     },
     "metadata": {},
     "output_type": "display_data"
    }
   ],
   "source": [
    "sb.scatterplot(x=\"Year\", y=\"population increase\", data=df_cleaned)"
   ]
  },
  {
   "cell_type": "code",
   "execution_count": null,
   "id": "dde34348-065a-4d46-9ab1-2d59cbb3d35d",
   "metadata": {},
   "outputs": [],
   "source": []
  }
 ],
 "metadata": {
  "kernelspec": {
   "display_name": "Python 3 (ipykernel)",
   "language": "python",
   "name": "python3"
  },
  "language_info": {
   "codemirror_mode": {
    "name": "ipython",
    "version": 3
   },
   "file_extension": ".py",
   "mimetype": "text/x-python",
   "name": "python",
   "nbconvert_exporter": "python",
   "pygments_lexer": "ipython3",
   "version": "3.12.0"
  }
 },
 "nbformat": 4,
 "nbformat_minor": 5
}
